{
 "cells": [
  {
   "cell_type": "code",
   "execution_count": 27,
   "metadata": {},
   "outputs": [],
   "source": [
    "import pandas as pd\n",
    "import numpy as np\n",
    "import re\n",
    "\n",
    "#image_name\tcategory\n",
    "#mapping of class names to class indices\n",
    "name_to_index_map = {'0': 0, '1': 1, '10': 2, '100': 3, '101': 4, '102': 5, '103': 6, '104': 7, '105': 8, '106': 9, '107': 10, '108': 11,\\\n",
    " '109': 12, '11': 13, '110': 14, '111': 15, '112': 16, '113': 17, '114': 18, '115': 19, '116': 20, '117': 21, '118': 22, '119': 23, '12': 24,\\\n",
    " '120': 25, '121': 26, '122': 27, '123': 28, '124': 29, '125': 30, '126': 31, '127': 32, '128': 33, '129': 34, '13': 35, '130': 36, '131': 37,\\\n",
    " '14': 38, '15': 39, '16': 40, '17': 41, '18': 42, '19': 43, '2': 44, '20': 45, '21': 46, '22': 47, '23': 48, '24': 49, '25': 50,\\\n",
    " '26': 51, '27': 52, '28': 53, '29': 54, '3': 55, '30': 56, '31': 57, '32': 58, '33': 59, '34': 60, '35': 61, '36': 62, '37': 63,\\\n",
    " '38': 64, '39': 65, '4': 66, '40': 67, '41': 68, '42': 69, '43': 70, '44': 71, '45': 72, '46': 73, '47': 74, '48': 75, '49': 76,\\\n",
    " '5': 77, '50': 78, '51': 79, '52': 80, '53': 81, '54': 82, '55': 83, '56': 84, '57': 85, '58': 86, '59': 87, '6': 88, '60': 89,\\\n",
    " '61': 90, '62': 91, '63': 92, '64': 93, '65': 94, '66': 95, '67': 96, '68': 97, '69': 98, '7': 99, '70': 100, '71': 101,\\\n",
    " '72': 102, '73': 103, '74': 104, '75': 105, '76': 106, '77': 107, '78': 108, '79': 109, '8': 110, '80': 111, '81': 112, '82': 113, '83': 114,\\\n",
    " '84': 115, '85': 116, '86': 117, '87': 118, '88': 119, '89': 120, '9': 121, '90': 122, '91': 123, '92': 124, '93': 125, '94': 126, '95': 127, '96': 128, '97': 129, '98': 130, '99': 131}\n",
    "\n",
    "FILE_PATH = r\"C:\\Users\\cjiaen\\Documents\\Sem1\\CS5242_NNDL\\Kaggle\\predictions_incepv3_cnn5.csv\"\n",
    "\n",
    "output = pd.read_csv(FILE_PATH, index_col = 0)"
   ]
  },
  {
   "cell_type": "code",
   "execution_count": null,
   "metadata": {},
   "outputs": [],
   "source": [
    "#print(output.head())"
   ]
  },
  {
   "cell_type": "code",
   "execution_count": 28,
   "metadata": {},
   "outputs": [],
   "source": [
    "output.columns.set_values = list(name_to_index_map.keys())"
   ]
  },
  {
   "cell_type": "code",
   "execution_count": null,
   "metadata": {},
   "outputs": [],
   "source": [
    "#print(output.columns.values)"
   ]
  },
  {
   "cell_type": "code",
   "execution_count": null,
   "metadata": {},
   "outputs": [],
   "source": [
    "ID = output.index.values\n",
    "ID = [re.sub(r'transferred_test','',id) for id in ID]"
   ]
  },
  {
   "cell_type": "code",
   "execution_count": 31,
   "metadata": {
    "collapsed": true
   },
   "outputs": [],
   "source": [
    "prediction = np.argmax(np.array(output)[:,1:], axis=1)\n",
    "\n",
    "processed_output = pd.DataFrame({'image_name':ID, 'category':prediction})\n",
    "processed_output = processed_output[['image_name','category']]\n",
    "processed_output.to_csv(\"CNN5_no_do.csv\", index = False)"
   ]
  },
  {
   "cell_type": "code",
   "execution_count": null,
   "metadata": {
    "collapsed": true
   },
   "outputs": [],
   "source": []
  }
 ],
 "metadata": {
  "kernelspec": {
   "display_name": "Python 3",
   "language": "python",
   "name": "python3"
  },
  "language_info": {
   "codemirror_mode": {
    "name": "ipython",
    "version": 3
   },
   "file_extension": ".py",
   "mimetype": "text/x-python",
   "name": "python",
   "nbconvert_exporter": "python",
   "pygments_lexer": "ipython3",
   "version": "3.6.1"
  }
 },
 "nbformat": 4,
 "nbformat_minor": 2
}

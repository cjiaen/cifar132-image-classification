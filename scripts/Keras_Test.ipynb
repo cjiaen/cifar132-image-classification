{
 "cells": [
  {
   "cell_type": "code",
   "execution_count": 19,
   "metadata": {},
   "outputs": [
    {
     "name": "stdout",
     "output_type": "stream",
     "text": [
      "2.0.8\n"
     ]
    }
   ],
   "source": [
    "import os\n",
    "import keras\n",
    "import numpy as np\n",
    "from keras.utils import np_utils\n",
    "from keras.optimizers import SGD\n",
    "from keras.preprocessing import image\n",
    "from keras.applications.inception_v3 import InceptionV3\n",
    "from keras.models import Model\n",
    "from keras.layers import Dense, GlobalAveragePooling2D\n",
    "import h5py #needed for loading keras weights\n",
    "print(keras.__version__)\n",
    "\n",
    "NUM_CLASSES = 132\n",
    "SAVED_MODEL = \"/home/user/food.h5\"\n",
    "TRAIN_DIR = \"/home/user/transferred_train\""
   ]
  },
  {
   "cell_type": "code",
   "execution_count": 2,
   "metadata": {},
   "outputs": [],
   "source": [
    "base_model = InceptionV3(weights='imagenet', include_top=False)"
   ]
  },
  {
   "cell_type": "code",
   "execution_count": 3,
   "metadata": {},
   "outputs": [],
   "source": [
    "# 132 categories\n",
    "x = base_model.output\n",
    "x = GlobalAveragePooling2D()(x)\n",
    "# let's add a fully-connected layer\n",
    "x = Dense(1024, activation='relu')(x)\n",
    "predictions = Dense(NUM_CLASSES, activation='softmax')(x)\n",
    "V3 = Model(inputs=base_model.input, outputs=predictions)\n",
    "#Only allowing these new layest to be trained\n",
    "for layer in base_model.layers: layer.trainable = False\n",
    "sgd = SGD(lr=1e-3, decay=1e-6, momentum=0.9, nesterov=True)\n",
    "V3.compile(optimizer=sgd, loss='categorical_crossentropy', metrics=['accuracy'])\n",
    "datagen = image.ImageDataGenerator(\n",
    "    rotation_range=20,\n",
    "    width_shift_range=0.2,\n",
    "    height_shift_range=0.2,\n",
    "    horizontal_flip=True)"
   ]
  },
  {
   "cell_type": "code",
   "execution_count": null,
   "metadata": {
    "collapsed": true
   },
   "outputs": [],
   "source": [
    "if os.path.exists(SAVED_MODEL):\n",
    "    V3 = load_model(SAVED_MODEL)"
   ]
  },
  {
   "cell_type": "code",
   "execution_count": 10,
   "metadata": {},
   "outputs": [],
   "source": [
    "# does not work yet, using datagen.flow_from_directory instead\n",
    "def load_image(img_path):\n",
    "    #inception v3 input size is 299X299\n",
    "    img = image.load_img(img_path, target_size=(299, 299))\n",
    "    x = image.img_to_array(img)\n",
    "    x = x.reshape(x.shape)\n",
    "    x = x.reshape((1,) + x.shape)\n",
    "    return x\n",
    "\n",
    "def load_train_xy(img_path,category):\n",
    "    x_train = load_image(img_path)\n",
    "    y_train = np_utils.to_categorical(category, NUM_CLASSES)\n",
    "    return (x_train,y_train)"
   ]
  },
  {
   "cell_type": "code",
   "execution_count": 5,
   "metadata": {
    "collapsed": true
   },
   "outputs": [],
   "source": [
    "# does not work yet, using datagen.flow_from_directory instead\n",
    "def load_train_set(csv_path):\n",
    "    f = open(csv_path,\"r\")\n",
    "    x_train = []\n",
    "    y_train = []\n",
    "    for l in f.readlines():\n",
    "        arr = l.strip().split(\",\")\n",
    "        filename = os.path.join(TRAIN_DIR,arr[0])\n",
    "        category = int(arr[1])\n",
    "        x,y = load_train_xy(filename,category)\n",
    "        x_train.append(x)\n",
    "        y_train.append(y)\n",
    "    f.close()\n",
    "    return (x_train,y_train)"
   ]
  },
  {
   "cell_type": "code",
   "execution_count": 18,
   "metadata": {},
   "outputs": [
    {
     "name": "stdout",
     "output_type": "stream",
     "text": [
      "Found 6732 images belonging to 132 classes.\n",
      "Epoch 1/3\n",
      "10/10 [==============================] - 371s - loss: 4.8711 - acc: 0.0063    \n",
      "Epoch 2/3\n",
      "10/10 [==============================] - 377s - loss: 4.8803 - acc: 0.0031    \n",
      "Epoch 3/3\n",
      "10/10 [==============================] - 352s - loss: 4.8831 - acc: 0.0000e+00    \n"
     ]
    },
    {
     "ename": "NameError",
     "evalue": "name 'SAVED_MODEL' is not defined",
     "output_type": "error",
     "traceback": [
      "\u001b[0;31m---------------------------------------------------------------------\u001b[0m",
      "\u001b[0;31mNameError\u001b[0m                           Traceback (most recent call last)",
      "\u001b[0;32m<ipython-input-18-e88681726776>\u001b[0m in \u001b[0;36m<module>\u001b[0;34m()\u001b[0m\n\u001b[1;32m      8\u001b[0m \u001b[0;31m#steps_per_epoch: Total number of steps (batches of samples) to yield from generator before declaring one epoch finished and starting the next epoch. It should typically be equal to the number of unique samples of your dataset divided by the batch size.\u001b[0m\u001b[0;34m\u001b[0m\u001b[0;34m\u001b[0m\u001b[0m\n\u001b[1;32m      9\u001b[0m \u001b[0mV3\u001b[0m\u001b[0;34m.\u001b[0m\u001b[0mfit_generator\u001b[0m\u001b[0;34m(\u001b[0m\u001b[0mtrain_generator\u001b[0m\u001b[0;34m,\u001b[0m  \u001b[0mepochs\u001b[0m\u001b[0;34m=\u001b[0m\u001b[0;36m3\u001b[0m\u001b[0;34m,\u001b[0m \u001b[0mverbose\u001b[0m\u001b[0;34m=\u001b[0m\u001b[0;36m1\u001b[0m\u001b[0;34m,\u001b[0m \u001b[0mcallbacks\u001b[0m\u001b[0;34m=\u001b[0m\u001b[0;32mNone\u001b[0m\u001b[0;34m,\u001b[0m \u001b[0mvalidation_data\u001b[0m\u001b[0;34m=\u001b[0m\u001b[0;32mNone\u001b[0m\u001b[0;34m,\u001b[0m \u001b[0mshuffle\u001b[0m\u001b[0;34m=\u001b[0m\u001b[0;32mTrue\u001b[0m\u001b[0;34m,\u001b[0m \u001b[0mclass_weight\u001b[0m\u001b[0;34m=\u001b[0m\u001b[0;32mNone\u001b[0m\u001b[0;34m,\u001b[0m \u001b[0minitial_epoch\u001b[0m\u001b[0;34m=\u001b[0m\u001b[0;36m0\u001b[0m\u001b[0;34m,\u001b[0m \u001b[0msteps_per_epoch\u001b[0m\u001b[0;34m=\u001b[0m\u001b[0;36m10\u001b[0m\u001b[0;34m,\u001b[0m \u001b[0mvalidation_steps\u001b[0m\u001b[0;34m=\u001b[0m\u001b[0;36m800\u001b[0m\u001b[0;34m)\u001b[0m\u001b[0;34m\u001b[0m\u001b[0m\n\u001b[0;32m---> 10\u001b[0;31m \u001b[0mV3\u001b[0m\u001b[0;34m.\u001b[0m\u001b[0msave\u001b[0m\u001b[0;34m(\u001b[0m\u001b[0mSAVED_MODEL\u001b[0m\u001b[0;34m)\u001b[0m\u001b[0;34m\u001b[0m\u001b[0m\n\u001b[0m",
      "\u001b[0;31mNameError\u001b[0m: name 'SAVED_MODEL' is not defined"
     ]
    }
   ],
   "source": [
    "#(x_train,y_train) = load_train_set(\"subset_train.csv\")\n",
    "train_generator = datagen.flow_from_directory(\n",
    "        '/home/user/train',\n",
    "        target_size=(299, 299),\n",
    "        batch_size=32,\n",
    "        class_mode='categorical')\n",
    "#do some simple training, parameters are artifically small so that my laptop don't die\n",
    "#steps_per_epoch: Total number of steps (batches of samples) to yield from generator before declaring one epoch finished and starting the next epoch. It should typically be equal to the number of unique samples of your dataset divided by the batch size.\n",
    "V3.fit_generator(train_generator,  epochs=3, verbose=1, callbacks=None, validation_data=None, shuffle=True, class_weight=None, initial_epoch=0, steps_per_epoch=10, validation_steps=800)\n",
    "V3.save(SAVED_MODEL)"
   ]
  },
  {
   "cell_type": "code",
   "execution_count": 23,
   "metadata": {},
   "outputs": [
    {
     "name": "stdout",
     "output_type": "stream",
     "text": [
      "1/1 [==============================] - 1s\n",
      "27\n"
     ]
    }
   ],
   "source": [
    "x_test = load_image(os.path.join(TRAIN_DIR,\"0.jpg\"))\n",
    "predictions = V3.predict(x_test, batch_size=1, verbose=1)\n",
    "predicted_category = np.argmax(predictions)\n",
    "print(predicted_category)"
   ]
  }
 ],
 "metadata": {
  "kernelspec": {
   "display_name": "Python 3",
   "language": "python",
   "name": "python3"
  },
  "language_info": {
   "codemirror_mode": {
    "name": "ipython",
    "version": 3
   },
   "file_extension": ".py",
   "mimetype": "text/x-python",
   "name": "python",
   "nbconvert_exporter": "python",
   "pygments_lexer": "ipython3",
   "version": "3.5.2"
  }
 },
 "nbformat": 4,
 "nbformat_minor": 2
}

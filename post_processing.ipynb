{
 "cells": [
  {
   "cell_type": "code",
   "execution_count": 34,
   "metadata": {},
   "outputs": [],
   "source": [
    "import pandas as pd\n",
    "import numpy as np\n",
    "import re\n",
    "\n",
    "#image_name\tcategory\n",
    "#mapping of class names to class indices\n",
    "'''\n",
    "name_to_index_map = {'0': 0, '1': 1, '10': 2, '100': 3, '101': 4, '102': 5, '103': 6, '104': 7, '105': 8, '106': 9, '107': 10, '108': 11,\\\n",
    " '109': 12, '11': 13, '110': 14, '111': 15, '112': 16, '113': 17, '114': 18, '115': 19, '116': 20, '117': 21, '118': 22, '119': 23, '12': 24,\\\n",
    " '120': 25, '121': 26, '122': 27, '123': 28, '124': 29, '125': 30, '126': 31, '127': 32, '128': 33, '129': 34, '13': 35, '130': 36, '131': 37,\\\n",
    " '14': 38, '15': 39, '16': 40, '17': 41, '18': 42, '19': 43, '2': 44, '20': 45, '21': 46, '22': 47, '23': 48, '24': 49, '25': 50,\\\n",
    " '26': 51, '27': 52, '28': 53, '29': 54, '3': 55, '30': 56, '31': 57, '32': 58, '33': 59, '34': 60, '35': 61, '36': 62, '37': 63,\\\n",
    " '38': 64, '39': 65, '4': 66, '40': 67, '41': 68, '42': 69, '43': 70, '44': 71, '45': 72, '46': 73, '47': 74, '48': 75, '49': 76,\\\n",
    " '5': 77, '50': 78, '51': 79, '52': 80, '53': 81, '54': 82, '55': 83, '56': 84, '57': 85, '58': 86, '59': 87, '6': 88, '60': 89,\\\n",
    " '61': 90, '62': 91, '63': 92, '64': 93, '65': 94, '66': 95, '67': 96, '68': 97, '69': 98, '7': 99, '70': 100, '71': 101,\\\n",
    " '72': 102, '73': 103, '74': 104, '75': 105, '76': 106, '77': 107, '78': 108, '79': 109, '8': 110, '80': 111, '81': 112, '82': 113, '83': 114,\\\n",
    " '84': 115, '85': 116, '86': 117, '87': 118, '88': 119, '89': 120, '9': 121, '90': 122, '91': 123, '92': 124, '93': 125, '94': 126, '95': 127, '96': 128, '97': 129, '98': 130, '99': 131}\n",
    "'''\n",
    "\n",
    "FILE_PATH = r\"C:\\Users\\cjiaen\\Documents\\Sem1\\CS5242_NNDL\\Kaggle\\predictions_incepv3_cnn5.csv\"\n",
    "\n",
    "output = pd.read_csv(FILE_PATH, index_col = 0)"
   ]
  },
  {
   "cell_type": "code",
   "execution_count": 35,
   "metadata": {},
   "outputs": [
    {
     "name": "stdout",
     "output_type": "stream",
     "text": [
      "                                     86            60            61  \\\n",
      "transferred_test13135.jpg  4.346298e-26  2.010241e-13  1.477328e-25   \n",
      "transferred_test47394.jpg  6.694842e-07  3.939143e-08  5.322985e-02   \n",
      "transferred_test26594.jpg  1.618759e-11  4.084499e-07  4.257682e-05   \n",
      "transferred_test27988.jpg  1.887815e-15  1.948239e-15  6.035068e-22   \n",
      "transferred_test2374.jpg   5.104608e-14  1.602170e-21  6.708304e-15   \n",
      "\n",
      "                                    131           130            64  \\\n",
      "transferred_test13135.jpg  1.435209e-20  2.558144e-14  1.363069e-22   \n",
      "transferred_test47394.jpg  8.097362e-05  6.453763e-06  5.124896e-03   \n",
      "transferred_test26594.jpg  1.202701e-13  1.958278e-10  2.758599e-09   \n",
      "transferred_test27988.jpg  2.184237e-25  2.015848e-24  1.348014e-22   \n",
      "transferred_test2374.jpg   3.153220e-25  5.953996e-26  5.245868e-20   \n",
      "\n",
      "                                     65            66            67  \\\n",
      "transferred_test13135.jpg  4.076254e-22  5.057521e-15  6.793666e-19   \n",
      "transferred_test47394.jpg  1.583452e-06  9.211933e-07  7.259005e-08   \n",
      "transferred_test26594.jpg  1.475645e-06  1.127460e-15  2.292250e-10   \n",
      "transferred_test27988.jpg  5.927870e-16  1.195403e-17  2.149663e-22   \n",
      "transferred_test2374.jpg   4.231737e-19  1.115672e-18  1.210804e-20   \n",
      "\n",
      "                                     68      ...                 32  \\\n",
      "transferred_test13135.jpg  1.988049e-29      ...       2.235708e-30   \n",
      "transferred_test47394.jpg  3.676293e-04      ...       3.865089e-05   \n",
      "transferred_test26594.jpg  1.314458e-05      ...       1.928980e-14   \n",
      "transferred_test27988.jpg  8.804322e-21      ...       8.349570e-15   \n",
      "transferred_test2374.jpg   5.493113e-13      ...       9.962150e-15   \n",
      "\n",
      "                                     31            30            37  \\\n",
      "transferred_test13135.jpg  3.692640e-18  8.285872e-22  1.863655e-15   \n",
      "transferred_test47394.jpg  1.271813e-04  1.182885e-05  2.948687e-04   \n",
      "transferred_test26594.jpg  7.842579e-03  8.685890e-08  1.249107e-09   \n",
      "transferred_test27988.jpg  1.783451e-16  8.385238e-19  9.454198e-22   \n",
      "transferred_test2374.jpg   4.269523e-13  5.301624e-16  1.608734e-16   \n",
      "\n",
      "                                     36            35            34  \\\n",
      "transferred_test13135.jpg  2.630215e-27  1.219547e-21  4.991491e-23   \n",
      "transferred_test47394.jpg  7.138121e-06  1.674153e-07  1.136444e-06   \n",
      "transferred_test26594.jpg  2.917837e-13  3.851163e-17  1.978894e-11   \n",
      "transferred_test27988.jpg  1.087175e-22  1.444236e-20  1.536837e-10   \n",
      "transferred_test2374.jpg   2.524182e-16  1.988305e-21  7.870042e-08   \n",
      "\n",
      "                                     59            74            88  \n",
      "transferred_test13135.jpg  2.210154e-19  5.345748e-20  1.156394e-21  \n",
      "transferred_test47394.jpg  6.185257e-06  4.103169e-06  3.630652e-05  \n",
      "transferred_test26594.jpg  1.280898e-11  4.199809e-14  2.239724e-13  \n",
      "transferred_test27988.jpg  5.210536e-06  2.981234e-22  1.393305e-31  \n",
      "transferred_test2374.jpg   1.955241e-20  1.548115e-29  1.357746e-18  \n",
      "\n",
      "[5 rows x 132 columns]\n"
     ]
    }
   ],
   "source": [
    "print(output.head())"
   ]
  },
  {
   "cell_type": "code",
   "execution_count": 28,
   "metadata": {},
   "outputs": [],
   "source": [
    "#output.columns.set_values = list(name_to_index_map.keys())"
   ]
  },
  {
   "cell_type": "code",
   "execution_count": null,
   "metadata": {},
   "outputs": [],
   "source": [
    "#print(output.columns.values)"
   ]
  },
  {
   "cell_type": "code",
   "execution_count": 36,
   "metadata": {},
   "outputs": [],
   "source": [
    "ID = output.index.values\n",
    "ID = [re.sub(r'transferred_test','',id) for id in ID]"
   ]
  },
  {
   "cell_type": "code",
   "execution_count": 37,
   "metadata": {
    "collapsed": true
   },
   "outputs": [],
   "source": [
    "prediction = np.argmax(np.array(output)[:,1:], axis=1)\n",
    "\n",
    "processed_output = pd.DataFrame({'image_name':ID, 'category':prediction})\n",
    "processed_output = processed_output[['image_name','category']]\n",
    "processed_output.to_csv(\"CNN5_no_do.csv\", index = False)"
   ]
  },
  {
   "cell_type": "code",
   "execution_count": null,
   "metadata": {
    "collapsed": true
   },
   "outputs": [],
   "source": []
  }
 ],
 "metadata": {
  "kernelspec": {
   "display_name": "Python 3",
   "language": "python",
   "name": "python3"
  },
  "language_info": {
   "codemirror_mode": {
    "name": "ipython",
    "version": 3
   },
   "file_extension": ".py",
   "mimetype": "text/x-python",
   "name": "python",
   "nbconvert_exporter": "python",
   "pygments_lexer": "ipython3",
   "version": "3.6.1"
  }
 },
 "nbformat": 4,
 "nbformat_minor": 2
}
